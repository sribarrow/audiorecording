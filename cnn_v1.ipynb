{
  "nbformat": 4,
  "nbformat_minor": 0,
  "metadata": {
    "colab": {
      "name": "cnn_v1.ipynb",
      "version": "0.3.2",
      "provenance": [],
      "collapsed_sections": [],
      "include_colab_link": true
    },
    "kernelspec": {
      "name": "python3",
      "display_name": "Python 3"
    },
    "accelerator": "GPU"
  },
  "cells": [
    {
      "cell_type": "markdown",
      "metadata": {
        "id": "view-in-github",
        "colab_type": "text"
      },
      "source": [
        "<a href=\"https://colab.research.google.com/github/sribarrow/audiorecording/blob/master/cnn_v1.ipynb\" target=\"_parent\"><img src=\"https://colab.research.google.com/assets/colab-badge.svg\" alt=\"Open In Colab\"/></a>"
      ]
    },
    {
      "cell_type": "code",
      "metadata": {
        "id": "BDjDWuI2Fau5",
        "colab_type": "code",
        "colab": {
          "base_uri": "https://localhost:8080/",
          "height": 34
        },
        "outputId": "a52070a9-23d5-4935-c640-68f8af5586a5"
      },
      "source": [
        "import numpy as np\n",
        "import keras\n",
        "from keras import backend as K\n",
        "import tensorflow as tf\n",
        "from keras.preprocessing.image import ImageDataGenerator\n",
        "from keras.models import Sequential\n",
        "from keras.layers import LSTM, TimeDistributed, Conv2D, MaxPooling2D, Dropout\n",
        "from keras.layers import Dense, Activation, Flatten\n",
        "from keras import optimizers, regularizers"
      ],
      "execution_count": 4,
      "outputs": [
        {
          "output_type": "stream",
          "text": [
            "Using TensorFlow backend.\n"
          ],
          "name": "stderr"
        }
      ]
    },
    {
      "cell_type": "markdown",
      "metadata": {
        "id": "heIJ4h4Kh97L",
        "colab_type": "text"
      },
      "source": [
        "Reference: https://colab.research.google.com/notebooks/gpu.ipynb#scrollTo=3IEVK-KFxi5Z"
      ]
    },
    {
      "cell_type": "code",
      "metadata": {
        "id": "jzjnlaZYNZOQ",
        "colab_type": "code",
        "outputId": "d1f29dbe-3a21-48c6-d69d-6900152d85be",
        "colab": {
          "base_uri": "https://localhost:8080/",
          "height": 34
        }
      },
      "source": [
        "device_name = tf.test.gpu_device_name()\n",
        "if device_name != '/device:GPU:0':\n",
        "  raise SystemError('GPU device not found')\n",
        "print('Found GPU at: {}'.format(device_name))"
      ],
      "execution_count": 5,
      "outputs": [
        {
          "output_type": "stream",
          "text": [
            "Found GPU at: /device:GPU:0\n"
          ],
          "name": "stdout"
        }
      ]
    },
    {
      "cell_type": "code",
      "metadata": {
        "id": "wecjvVzoZNjf",
        "colab_type": "code",
        "colab": {}
      },
      "source": [
        "from tensorflow.python.client import device_lib"
      ],
      "execution_count": 0,
      "outputs": []
    },
    {
      "cell_type": "code",
      "metadata": {
        "id": "1tznkO3-ZiJI",
        "colab_type": "code",
        "outputId": "6cc8bdef-6a3e-4b48-a2f8-901259bb8444",
        "colab": {
          "base_uri": "https://localhost:8080/",
          "height": 476
        }
      },
      "source": [
        "device_lib.list_local_devices()"
      ],
      "execution_count": 7,
      "outputs": [
        {
          "output_type": "execute_result",
          "data": {
            "text/plain": [
              "[name: \"/device:CPU:0\"\n",
              " device_type: \"CPU\"\n",
              " memory_limit: 268435456\n",
              " locality {\n",
              " }\n",
              " incarnation: 12927811161125809439, name: \"/device:XLA_CPU:0\"\n",
              " device_type: \"XLA_CPU\"\n",
              " memory_limit: 17179869184\n",
              " locality {\n",
              " }\n",
              " incarnation: 8195325464865065260\n",
              " physical_device_desc: \"device: XLA_CPU device\", name: \"/device:XLA_GPU:0\"\n",
              " device_type: \"XLA_GPU\"\n",
              " memory_limit: 17179869184\n",
              " locality {\n",
              " }\n",
              " incarnation: 11413248780337535628\n",
              " physical_device_desc: \"device: XLA_GPU device\", name: \"/device:GPU:0\"\n",
              " device_type: \"GPU\"\n",
              " memory_limit: 11330115994\n",
              " locality {\n",
              "   bus_id: 1\n",
              "   links {\n",
              "   }\n",
              " }\n",
              " incarnation: 12985650763744672478\n",
              " physical_device_desc: \"device: 0, name: Tesla K80, pci bus id: 0000:00:04.0, compute capability: 3.7\"]"
            ]
          },
          "metadata": {
            "tags": []
          },
          "execution_count": 7
        }
      ]
    },
    {
      "cell_type": "code",
      "metadata": {
        "id": "54IRkJeEQZKb",
        "colab_type": "code",
        "outputId": "26a1a51a-3bf6-4b6f-a2e2-fa853860f21c",
        "colab": {
          "base_uri": "https://localhost:8080/",
          "height": 122
        }
      },
      "source": [
        "from google.colab import drive\n",
        "drive.mount('/gdrive')"
      ],
      "execution_count": 8,
      "outputs": [
        {
          "output_type": "stream",
          "text": [
            "Go to this URL in a browser: https://accounts.google.com/o/oauth2/auth?client_id=947318989803-6bn6qk8qdgf4n4g3pfee6491hc0brc4i.apps.googleusercontent.com&redirect_uri=urn%3Aietf%3Awg%3Aoauth%3A2.0%3Aoob&scope=email%20https%3A%2F%2Fwww.googleapis.com%2Fauth%2Fdocs.test%20https%3A%2F%2Fwww.googleapis.com%2Fauth%2Fdrive%20https%3A%2F%2Fwww.googleapis.com%2Fauth%2Fdrive.photos.readonly%20https%3A%2F%2Fwww.googleapis.com%2Fauth%2Fpeopleapi.readonly&response_type=code\n",
            "\n",
            "Enter your authorization code:\n",
            "··········\n",
            "Mounted at /gdrive\n"
          ],
          "name": "stdout"
        }
      ]
    },
    {
      "cell_type": "code",
      "metadata": {
        "id": "tgF70CUHTMVp",
        "colab_type": "code",
        "colab": {}
      },
      "source": [
        "# with open('/gdrive/My Drive/foo.txt', 'w') as f:\n",
        "#   f.write('Hello Google Drive!')\n",
        "# !cat '/gdrive/My Drive/foo.txt'"
      ],
      "execution_count": 0,
      "outputs": []
    },
    {
      "cell_type": "markdown",
      "metadata": {
        "id": "xHrAffSbh2fL",
        "colab_type": "text"
      },
      "source": [
        "Reference: https://github.com/tensorflow/tensorflow/issues/17076\n",
        "\n",
        "Fix for ERROR - report_tensor_allocations_upon_oom"
      ]
    },
    {
      "cell_type": "code",
      "metadata": {
        "id": "nKiJdHRyYmSY",
        "colab_type": "code",
        "colab": {}
      },
      "source": [
        "# config = tf.ConfigProto( device_count = {'GPU': 1 , 'CPU': 1} ) \n",
        "#  sess = tf.Session(config=config) \n",
        "# sess = tf.Session(config=tf.ConfigProto(log_device_placement=True))"
      ],
      "execution_count": 0,
      "outputs": []
    },
    {
      "cell_type": "code",
      "metadata": {
        "id": "-YAbV-fYZzSy",
        "colab_type": "code",
        "outputId": "4495cc18-7ce5-4210-d6bb-639a76b4b93c",
        "colab": {
          "base_uri": "https://localhost:8080/",
          "height": 51
        }
      },
      "source": [
        "# Creates a graph.\n",
        "a = tf.constant([1.0, 2.0, 3.0, 4.0, 5.0, 6.0], shape=[2, 3], name='a')\n",
        "b = tf.constant([1.0, 2.0, 3.0, 4.0, 5.0, 6.0], shape=[3, 2], name='b')\n",
        "c = tf.matmul(a, b)\n",
        "# Creates a session with log_device_placement set to True.\n",
        "sess = tf.Session(config=tf.ConfigProto(log_device_placement=True))\n",
        "# Runs the op.\n",
        "print(sess.run(c))"
      ],
      "execution_count": 11,
      "outputs": [
        {
          "output_type": "stream",
          "text": [
            "[[22. 28.]\n",
            " [49. 64.]]\n"
          ],
          "name": "stdout"
        }
      ]
    },
    {
      "cell_type": "code",
      "metadata": {
        "id": "hdtBItk3akh5",
        "colab_type": "code",
        "outputId": "34911eba-b9b2-4adc-fe90-f986efa4b909",
        "colab": {
          "base_uri": "https://localhost:8080/",
          "height": 51
        }
      },
      "source": [
        "from tensorflow.core.protobuf import config_pb2\n",
        "sess.run(c, options=config_pb2.RunOptions(\n",
        "        report_tensor_allocations_upon_oom=True))"
      ],
      "execution_count": 12,
      "outputs": [
        {
          "output_type": "execute_result",
          "data": {
            "text/plain": [
              "array([[22., 28.],\n",
              "       [49., 64.]], dtype=float32)"
            ]
          },
          "metadata": {
            "tags": []
          },
          "execution_count": 12
        }
      ]
    },
    {
      "cell_type": "markdown",
      "metadata": {
        "id": "SHEe7I7ciLtI",
        "colab_type": "text"
      },
      "source": [
        "Reference: https://stackoverflow.com/questions/46066850/understanding-the-resourceexhaustederror-oom-when-allocating-tensor-with-shape\n",
        "\n",
        "Fix for ERROR - ResourceExhaustedError: OOM when allocating tensor with shape"
      ]
    },
    {
      "cell_type": "code",
      "metadata": {
        "id": "7Jrrfo5xcNlo",
        "colab_type": "code",
        "colab": {}
      },
      "source": [
        "gpu_options = tf.GPUOptions(allow_growth=True)"
      ],
      "execution_count": 0,
      "outputs": []
    },
    {
      "cell_type": "code",
      "metadata": {
        "id": "KYZbkcBFmzvw",
        "colab_type": "code",
        "colab": {}
      },
      "source": [
        "session = tf.InteractiveSession(config=tf.ConfigProto(gpu_options=gpu_options))"
      ],
      "execution_count": 0,
      "outputs": []
    },
    {
      "cell_type": "code",
      "metadata": {
        "id": "IT9Ec5-VOIRf",
        "colab_type": "code",
        "colab": {}
      },
      "source": [
        "train_path = '/gdrive/My Drive/raag_images/train'\n",
        "valid_path = '/gdrive/My Drive/raag_images/check'\n",
        "test_path = '/gdrive/My Drive/raag_images/test'"
      ],
      "execution_count": 0,
      "outputs": []
    },
    {
      "cell_type": "code",
      "metadata": {
        "id": "QTuggienOshr",
        "colab_type": "code",
        "outputId": "a25a3670-7e1b-435d-9c1f-de8eb9af50af",
        "colab": {
          "base_uri": "https://localhost:8080/",
          "height": 68
        }
      },
      "source": [
        "train_batches = ImageDataGenerator().flow_from_directory(train_path, target_size=(300,300), classes=['RaagM','RaagS'],  batch_size=32)\n",
        "valid_batches = ImageDataGenerator().flow_from_directory(valid_path,  target_size=(300,300), classes=['RaagM','RaagS'],  batch_size=4)\n",
        "test_batches = ImageDataGenerator().flow_from_directory(test_path,  target_size=(300,300), classes=['RaagM','RaagS'],  batch_size=10)"
      ],
      "execution_count": 16,
      "outputs": [
        {
          "output_type": "stream",
          "text": [
            "Found 576 images belonging to 2 classes.\n",
            "Found 26 images belonging to 2 classes.\n",
            "Found 0 images belonging to 2 classes.\n"
          ],
          "name": "stdout"
        }
      ]
    },
    {
      "cell_type": "code",
      "metadata": {
        "id": "_ysTQUCPcr6t",
        "colab_type": "code",
        "outputId": "19114a65-5efa-4dc8-a658-37ccb2da3d79",
        "colab": {
          "base_uri": "https://localhost:8080/",
          "height": 71
        }
      },
      "source": [
        "gpu_options = tf.GPUOptions(allow_growth=True)\n",
        "session = tf.InteractiveSession(config=tf.ConfigProto(gpu_options=gpu_options))"
      ],
      "execution_count": 17,
      "outputs": [
        {
          "output_type": "stream",
          "text": [
            "/usr/local/lib/python3.6/dist-packages/tensorflow/python/client/session.py:1735: UserWarning: An interactive session is already active. This can cause out-of-memory errors in some cases. You must explicitly call `InteractiveSession.close()` to release resources held by the other session(s).\n",
            "  warnings.warn('An interactive session is already active. This can '\n"
          ],
          "name": "stderr"
        }
      ]
    },
    {
      "cell_type": "code",
      "metadata": {
        "id": "sKAw5r1SSYpi",
        "colab_type": "code",
        "outputId": "573b1c3e-a543-425b-bfe4-eb8a10fdb701",
        "colab": {
          "base_uri": "https://localhost:8080/",
          "height": 326
        }
      },
      "source": [
        "model = Sequential()\n",
        "model.add(Conv2D(32, (3, 3), padding='same',input_shape=(300,300,3)))\n",
        "keras.layers.ConvLSTM2D(128, (3, 3), strides=(1, 1), padding='same')\n",
        "model.add(TimeDistributed(Dense(32)))\n",
        "model.add(MaxPooling2D(pool_size=(2, 2)))\n",
        "model.add(Flatten())\n",
        "model.add(Dropout(0.5))\n",
        "#model.add(Dense(128, activation='relu'))\n",
        "#model.add(Dense(64, activation='relu'))\n",
        "#model.add(Dense(32, activation='relu'))\n",
        "model.add(Dense(2, activation='softmax'))\n",
        "model.compile(optimizers.Adam(lr=0.0001),loss=\"categorical_crossentropy\",metrics=[\"accuracy\"])"
      ],
      "execution_count": 18,
      "outputs": [
        {
          "output_type": "stream",
          "text": [
            "WARNING:tensorflow:From /usr/local/lib/python3.6/dist-packages/keras/backend/tensorflow_backend.py:66: The name tf.get_default_graph is deprecated. Please use tf.compat.v1.get_default_graph instead.\n",
            "\n",
            "WARNING:tensorflow:From /usr/local/lib/python3.6/dist-packages/keras/backend/tensorflow_backend.py:541: The name tf.placeholder is deprecated. Please use tf.compat.v1.placeholder instead.\n",
            "\n",
            "WARNING:tensorflow:From /usr/local/lib/python3.6/dist-packages/keras/backend/tensorflow_backend.py:4432: The name tf.random_uniform is deprecated. Please use tf.random.uniform instead.\n",
            "\n",
            "WARNING:tensorflow:From /usr/local/lib/python3.6/dist-packages/keras/backend/tensorflow_backend.py:4267: The name tf.nn.max_pool is deprecated. Please use tf.nn.max_pool2d instead.\n",
            "\n",
            "WARNING:tensorflow:From /usr/local/lib/python3.6/dist-packages/keras/backend/tensorflow_backend.py:148: The name tf.placeholder_with_default is deprecated. Please use tf.compat.v1.placeholder_with_default instead.\n",
            "\n",
            "WARNING:tensorflow:From /usr/local/lib/python3.6/dist-packages/keras/backend/tensorflow_backend.py:3733: calling dropout (from tensorflow.python.ops.nn_ops) with keep_prob is deprecated and will be removed in a future version.\n",
            "Instructions for updating:\n",
            "Please use `rate` instead of `keep_prob`. Rate should be set to `rate = 1 - keep_prob`.\n",
            "WARNING:tensorflow:From /usr/local/lib/python3.6/dist-packages/keras/optimizers.py:793: The name tf.train.Optimizer is deprecated. Please use tf.compat.v1.train.Optimizer instead.\n",
            "\n",
            "WARNING:tensorflow:From /usr/local/lib/python3.6/dist-packages/keras/backend/tensorflow_backend.py:3576: The name tf.log is deprecated. Please use tf.math.log instead.\n",
            "\n"
          ],
          "name": "stdout"
        }
      ]
    },
    {
      "cell_type": "code",
      "metadata": {
        "id": "PRaYzXmZ0vK2",
        "colab_type": "code",
        "outputId": "a1de3b6e-a171-4df8-fe9b-3710710071ef",
        "colab": {
          "base_uri": "https://localhost:8080/",
          "height": 357
        }
      },
      "source": [
        "\n",
        "model.summary()"
      ],
      "execution_count": 19,
      "outputs": [
        {
          "output_type": "stream",
          "text": [
            "Model: \"sequential_1\"\n",
            "_________________________________________________________________\n",
            "Layer (type)                 Output Shape              Param #   \n",
            "=================================================================\n",
            "conv2d_1 (Conv2D)            (None, 300, 300, 32)      896       \n",
            "_________________________________________________________________\n",
            "time_distributed_1 (TimeDist (None, 300, 300, 32)      1056      \n",
            "_________________________________________________________________\n",
            "max_pooling2d_1 (MaxPooling2 (None, 150, 150, 32)      0         \n",
            "_________________________________________________________________\n",
            "flatten_1 (Flatten)          (None, 720000)            0         \n",
            "_________________________________________________________________\n",
            "dropout_1 (Dropout)          (None, 720000)            0         \n",
            "_________________________________________________________________\n",
            "dense_2 (Dense)              (None, 2)                 1440002   \n",
            "=================================================================\n",
            "Total params: 1,441,954\n",
            "Trainable params: 1,441,954\n",
            "Non-trainable params: 0\n",
            "_________________________________________________________________\n"
          ],
          "name": "stdout"
        }
      ]
    },
    {
      "cell_type": "code",
      "metadata": {
        "id": "dGq-k9rQSYot",
        "colab_type": "code",
        "outputId": "58b7d329-0343-40b5-aa25-8a2cd8ad1824",
        "colab": {
          "base_uri": "https://localhost:8080/",
          "height": 51
        }
      },
      "source": [
        "STEP_SIZE_TRAIN=train_batches.n//train_batches.batch_size\n",
        "print(STEP_SIZE_TRAIN)\n",
        "STEP_SIZE_VALID=valid_batches.n//valid_batches.batch_size\n",
        "print(STEP_SIZE_VALID)\n"
      ],
      "execution_count": 20,
      "outputs": [
        {
          "output_type": "stream",
          "text": [
            "18\n",
            "6\n"
          ],
          "name": "stdout"
        }
      ]
    },
    {
      "cell_type": "code",
      "metadata": {
        "id": "QnD4Dzv-Ovax",
        "colab_type": "code",
        "outputId": "4e085bc0-c80e-4e2d-fe82-d5e87416c85a",
        "colab": {
          "base_uri": "https://localhost:8080/",
          "height": 445
        }
      },
      "source": [
        "model.fit_generator(train_batches, steps_per_epoch=STEP_SIZE_TRAIN, epochs=10, validation_data=valid_batches, validation_steps=STEP_SIZE_VALID)"
      ],
      "execution_count": 21,
      "outputs": [
        {
          "output_type": "stream",
          "text": [
            "WARNING:tensorflow:From /usr/local/lib/python3.6/dist-packages/tensorflow/python/ops/math_grad.py:1250: add_dispatch_support.<locals>.wrapper (from tensorflow.python.ops.array_ops) is deprecated and will be removed in a future version.\n",
            "Instructions for updating:\n",
            "Use tf.where in 2.0, which has the same broadcast rule as np.where\n",
            "Epoch 1/10\n",
            "18/18 [==============================] - 177s 10s/step - loss: 7.9865 - acc: 0.5035 - val_loss: 8.7306 - val_acc: 0.4583\n",
            "Epoch 2/10\n",
            "18/18 [==============================] - 7s 382ms/step - loss: 8.0590 - acc: 0.5000 - val_loss: 7.3264 - val_acc: 0.5455\n",
            "Epoch 3/10\n",
            "18/18 [==============================] - 7s 379ms/step - loss: 8.0590 - acc: 0.5000 - val_loss: 6.5938 - val_acc: 0.5909\n",
            "Epoch 4/10\n",
            "18/18 [==============================] - 7s 369ms/step - loss: 8.0590 - acc: 0.5000 - val_loss: 8.7917 - val_acc: 0.4545\n",
            "Epoch 5/10\n",
            "18/18 [==============================] - 7s 370ms/step - loss: 8.0590 - acc: 0.5000 - val_loss: 8.7917 - val_acc: 0.4545\n",
            "Epoch 6/10\n",
            "18/18 [==============================] - 7s 369ms/step - loss: 8.0590 - acc: 0.5000 - val_loss: 8.0590 - val_acc: 0.5000\n",
            "Epoch 7/10\n",
            "18/18 [==============================] - 7s 379ms/step - loss: 8.0590 - acc: 0.5000 - val_loss: 8.0590 - val_acc: 0.5000\n",
            "Epoch 8/10\n",
            "18/18 [==============================] - 7s 403ms/step - loss: 8.0590 - acc: 0.5000 - val_loss: 8.0590 - val_acc: 0.5000\n",
            "Epoch 9/10\n",
            "18/18 [==============================] - 7s 385ms/step - loss: 8.0590 - acc: 0.5000 - val_loss: 9.5243 - val_acc: 0.4091\n",
            "Epoch 10/10\n",
            "18/18 [==============================] - 7s 377ms/step - loss: 8.0590 - acc: 0.5000 - val_loss: 5.8611 - val_acc: 0.6364\n"
          ],
          "name": "stdout"
        },
        {
          "output_type": "execute_result",
          "data": {
            "text/plain": [
              "<keras.callbacks.History at 0x7f748e9b2668>"
            ]
          },
          "metadata": {
            "tags": []
          },
          "execution_count": 21
        }
      ]
    },
    {
      "cell_type": "code",
      "metadata": {
        "id": "L8OSoaZ2lD4j",
        "colab_type": "code",
        "outputId": "9d012ec6-840e-439f-9997-4fea513725c6",
        "colab": {
          "base_uri": "https://localhost:8080/",
          "height": 34
        }
      },
      "source": [
        "model.evaluate_generator(generator=valid_batches, steps=STEP_SIZE_VALID)"
      ],
      "execution_count": 22,
      "outputs": [
        {
          "output_type": "execute_result",
          "data": {
            "text/plain": [
              "[7.387460390726726, 0.5416666666666666]"
            ]
          },
          "metadata": {
            "tags": []
          },
          "execution_count": 22
        }
      ]
    },
    {
      "cell_type": "markdown",
      "metadata": {
        "id": "8jlOgJ8D2sDz",
        "colab_type": "text"
      },
      "source": [
        "**Fine tuning the model using pretrained model VGG16**"
      ]
    },
    {
      "cell_type": "code",
      "metadata": {
        "id": "mA2bGd_NQXHq",
        "colab_type": "code",
        "colab": {}
      },
      "source": [
        "from keras.layers import Input"
      ],
      "execution_count": 0,
      "outputs": []
    },
    {
      "cell_type": "code",
      "metadata": {
        "id": "yMZ42J5OVEAP",
        "colab_type": "code",
        "colab": {}
      },
      "source": [
        "from keras.layers.pooling import AveragePooling2D"
      ],
      "execution_count": 0,
      "outputs": []
    },
    {
      "cell_type": "code",
      "metadata": {
        "id": "8jDGMkVm8HQb",
        "colab_type": "code",
        "colab": {}
      },
      "source": [
        "from keras.applications.vgg16 import VGG16"
      ],
      "execution_count": 0,
      "outputs": []
    },
    {
      "cell_type": "code",
      "metadata": {
        "id": "nYVCU26tRX6j",
        "colab_type": "code",
        "colab": {}
      },
      "source": [
        "#vgg16_model = keras.applications.vgg16.VGG16()\n",
        "#vgg16_model.layers.pop()"
      ],
      "execution_count": 0,
      "outputs": []
    },
    {
      "cell_type": "code",
      "metadata": {
        "id": "0T36wB1iRbKI",
        "colab_type": "code",
        "colab": {
          "base_uri": "https://localhost:8080/",
          "height": 51
        },
        "outputId": "9e575f24-dd73-4ac7-c10b-fca1b5816c41"
      },
      "source": [
        "vgg16_model = keras.applications.vgg16.VGG16(include_top=False, input_tensor=Input(shape=(300, 300, 3)))"
      ],
      "execution_count": 27,
      "outputs": [
        {
          "output_type": "stream",
          "text": [
            "Downloading data from https://github.com/fchollet/deep-learning-models/releases/download/v0.1/vgg16_weights_tf_dim_ordering_tf_kernels_notop.h5\n",
            "58892288/58889256 [==============================] - 3s 0us/step\n"
          ],
          "name": "stdout"
        }
      ]
    },
    {
      "cell_type": "code",
      "metadata": {
        "id": "-XATtFxI4V8r",
        "colab_type": "code",
        "outputId": "761d6a5e-9649-4657-8b24-d8a877cda4f3",
        "colab": {
          "base_uri": "https://localhost:8080/",
          "height": 799
        }
      },
      "source": [
        "vgg16_model.summary()"
      ],
      "execution_count": 28,
      "outputs": [
        {
          "output_type": "stream",
          "text": [
            "Model: \"vgg16\"\n",
            "_________________________________________________________________\n",
            "Layer (type)                 Output Shape              Param #   \n",
            "=================================================================\n",
            "input_1 (InputLayer)         (None, 300, 300, 3)       0         \n",
            "_________________________________________________________________\n",
            "block1_conv1 (Conv2D)        (None, 300, 300, 64)      1792      \n",
            "_________________________________________________________________\n",
            "block1_conv2 (Conv2D)        (None, 300, 300, 64)      36928     \n",
            "_________________________________________________________________\n",
            "block1_pool (MaxPooling2D)   (None, 150, 150, 64)      0         \n",
            "_________________________________________________________________\n",
            "block2_conv1 (Conv2D)        (None, 150, 150, 128)     73856     \n",
            "_________________________________________________________________\n",
            "block2_conv2 (Conv2D)        (None, 150, 150, 128)     147584    \n",
            "_________________________________________________________________\n",
            "block2_pool (MaxPooling2D)   (None, 75, 75, 128)       0         \n",
            "_________________________________________________________________\n",
            "block3_conv1 (Conv2D)        (None, 75, 75, 256)       295168    \n",
            "_________________________________________________________________\n",
            "block3_conv2 (Conv2D)        (None, 75, 75, 256)       590080    \n",
            "_________________________________________________________________\n",
            "block3_conv3 (Conv2D)        (None, 75, 75, 256)       590080    \n",
            "_________________________________________________________________\n",
            "block3_pool (MaxPooling2D)   (None, 37, 37, 256)       0         \n",
            "_________________________________________________________________\n",
            "block4_conv1 (Conv2D)        (None, 37, 37, 512)       1180160   \n",
            "_________________________________________________________________\n",
            "block4_conv2 (Conv2D)        (None, 37, 37, 512)       2359808   \n",
            "_________________________________________________________________\n",
            "block4_conv3 (Conv2D)        (None, 37, 37, 512)       2359808   \n",
            "_________________________________________________________________\n",
            "block4_pool (MaxPooling2D)   (None, 18, 18, 512)       0         \n",
            "_________________________________________________________________\n",
            "block5_conv1 (Conv2D)        (None, 18, 18, 512)       2359808   \n",
            "_________________________________________________________________\n",
            "block5_conv2 (Conv2D)        (None, 18, 18, 512)       2359808   \n",
            "_________________________________________________________________\n",
            "block5_conv3 (Conv2D)        (None, 18, 18, 512)       2359808   \n",
            "_________________________________________________________________\n",
            "block5_pool (MaxPooling2D)   (None, 9, 9, 512)         0         \n",
            "=================================================================\n",
            "Total params: 14,714,688\n",
            "Trainable params: 14,714,688\n",
            "Non-trainable params: 0\n",
            "_________________________________________________________________\n"
          ],
          "name": "stdout"
        }
      ]
    },
    {
      "cell_type": "markdown",
      "metadata": {
        "id": "hhnd2iX2TL0v",
        "colab_type": "text"
      },
      "source": [
        "Fine tuning Reference: https://www.pyimagesearch.com/2019/06/24/change-input-shape-dimensions-for-fine-tuning-with-keras/"
      ]
    },
    {
      "cell_type": "markdown",
      "metadata": {
        "id": "D_td4vcM5ovj",
        "colab_type": "text"
      },
      "source": [
        "**Print the type of this vgg16 model.**\n",
        "\n",
        "*Note this is of type model and not sequential*\n"
      ]
    },
    {
      "cell_type": "code",
      "metadata": {
        "id": "-0oFDsHv4zoP",
        "colab_type": "code",
        "outputId": "9d09ee6f-5709-4c06-8446-c9d850750105",
        "colab": {
          "base_uri": "https://localhost:8080/",
          "height": 34
        }
      },
      "source": [
        "type(vgg16_model)"
      ],
      "execution_count": 29,
      "outputs": [
        {
          "output_type": "execute_result",
          "data": {
            "text/plain": [
              "keras.engine.training.Model"
            ]
          },
          "metadata": {
            "tags": []
          },
          "execution_count": 29
        }
      ]
    },
    {
      "cell_type": "code",
      "metadata": {
        "id": "sngo3BuWUUNv",
        "colab_type": "code",
        "colab": {}
      },
      "source": [
        "new_model = vgg16_model.output"
      ],
      "execution_count": 0,
      "outputs": []
    },
    {
      "cell_type": "code",
      "metadata": {
        "id": "KNGrqA4RUnQO",
        "colab_type": "code",
        "colab": {
          "base_uri": "https://localhost:8080/",
          "height": 71
        },
        "outputId": "dbd56411-5e9f-43a6-a339-ecc95456a044"
      },
      "source": [
        "new_model = AveragePooling2D(pool_size=(4, 4))(new_model)"
      ],
      "execution_count": 31,
      "outputs": [
        {
          "output_type": "stream",
          "text": [
            "WARNING:tensorflow:From /usr/local/lib/python3.6/dist-packages/keras/backend/tensorflow_backend.py:4271: The name tf.nn.avg_pool is deprecated. Please use tf.nn.avg_pool2d instead.\n",
            "\n"
          ],
          "name": "stdout"
        }
      ]
    },
    {
      "cell_type": "code",
      "metadata": {
        "id": "nlN7Ad7LVk2F",
        "colab_type": "code",
        "colab": {}
      },
      "source": [
        "new_model = Flatten(name=\"flatten\")(new_model)\n",
        "new_model = Dense(128, activation=\"relu\")(new_model)\n",
        "new_model = Dropout(0.5)(new_model)\n",
        "new_model = Dense(2, activation=\"softmax\")(new_model)"
      ],
      "execution_count": 0,
      "outputs": []
    },
    {
      "cell_type": "code",
      "metadata": {
        "id": "GtoSfsbPXOPj",
        "colab_type": "code",
        "colab": {}
      },
      "source": [
        "from keras.models import Model\n",
        "model = Model(inputs=vgg16_model.input, outputs=new_model)"
      ],
      "execution_count": 0,
      "outputs": []
    },
    {
      "cell_type": "code",
      "metadata": {
        "id": "VhCGceKiXyHF",
        "colab_type": "code",
        "outputId": "a72ea70e-500a-47d6-f02f-aa256b6189c6",
        "colab": {
          "base_uri": "https://localhost:8080/",
          "height": 969
        }
      },
      "source": [
        "model.summary()"
      ],
      "execution_count": 34,
      "outputs": [
        {
          "output_type": "stream",
          "text": [
            "Model: \"model_1\"\n",
            "_________________________________________________________________\n",
            "Layer (type)                 Output Shape              Param #   \n",
            "=================================================================\n",
            "input_1 (InputLayer)         (None, 300, 300, 3)       0         \n",
            "_________________________________________________________________\n",
            "block1_conv1 (Conv2D)        (None, 300, 300, 64)      1792      \n",
            "_________________________________________________________________\n",
            "block1_conv2 (Conv2D)        (None, 300, 300, 64)      36928     \n",
            "_________________________________________________________________\n",
            "block1_pool (MaxPooling2D)   (None, 150, 150, 64)      0         \n",
            "_________________________________________________________________\n",
            "block2_conv1 (Conv2D)        (None, 150, 150, 128)     73856     \n",
            "_________________________________________________________________\n",
            "block2_conv2 (Conv2D)        (None, 150, 150, 128)     147584    \n",
            "_________________________________________________________________\n",
            "block2_pool (MaxPooling2D)   (None, 75, 75, 128)       0         \n",
            "_________________________________________________________________\n",
            "block3_conv1 (Conv2D)        (None, 75, 75, 256)       295168    \n",
            "_________________________________________________________________\n",
            "block3_conv2 (Conv2D)        (None, 75, 75, 256)       590080    \n",
            "_________________________________________________________________\n",
            "block3_conv3 (Conv2D)        (None, 75, 75, 256)       590080    \n",
            "_________________________________________________________________\n",
            "block3_pool (MaxPooling2D)   (None, 37, 37, 256)       0         \n",
            "_________________________________________________________________\n",
            "block4_conv1 (Conv2D)        (None, 37, 37, 512)       1180160   \n",
            "_________________________________________________________________\n",
            "block4_conv2 (Conv2D)        (None, 37, 37, 512)       2359808   \n",
            "_________________________________________________________________\n",
            "block4_conv3 (Conv2D)        (None, 37, 37, 512)       2359808   \n",
            "_________________________________________________________________\n",
            "block4_pool (MaxPooling2D)   (None, 18, 18, 512)       0         \n",
            "_________________________________________________________________\n",
            "block5_conv1 (Conv2D)        (None, 18, 18, 512)       2359808   \n",
            "_________________________________________________________________\n",
            "block5_conv2 (Conv2D)        (None, 18, 18, 512)       2359808   \n",
            "_________________________________________________________________\n",
            "block5_conv3 (Conv2D)        (None, 18, 18, 512)       2359808   \n",
            "_________________________________________________________________\n",
            "block5_pool (MaxPooling2D)   (None, 9, 9, 512)         0         \n",
            "_________________________________________________________________\n",
            "average_pooling2d_1 (Average (None, 2, 2, 512)         0         \n",
            "_________________________________________________________________\n",
            "flatten (Flatten)            (None, 2048)              0         \n",
            "_________________________________________________________________\n",
            "dense_3 (Dense)              (None, 128)               262272    \n",
            "_________________________________________________________________\n",
            "dropout_2 (Dropout)          (None, 128)               0         \n",
            "_________________________________________________________________\n",
            "dense_4 (Dense)              (None, 2)                 258       \n",
            "=================================================================\n",
            "Total params: 14,977,218\n",
            "Trainable params: 14,977,218\n",
            "Non-trainable params: 0\n",
            "_________________________________________________________________\n"
          ],
          "name": "stdout"
        }
      ]
    },
    {
      "cell_type": "markdown",
      "metadata": {
        "id": "cKcrV8gO6CQb",
        "colab_type": "text"
      },
      "source": [
        "**Transform the above model to sequential**"
      ]
    },
    {
      "cell_type": "code",
      "metadata": {
        "id": "HI5vbGG1YDD7",
        "colab_type": "code",
        "colab": {}
      },
      "source": [
        "for l in vgg16_model.layers:\n",
        "  layer_trainable=False"
      ],
      "execution_count": 0,
      "outputs": []
    },
    {
      "cell_type": "code",
      "metadata": {
        "id": "-WhvctWS45Ip",
        "colab_type": "code",
        "outputId": "06f50d57-c56c-4039-e3ad-8232626ce9d0",
        "colab": {
          "base_uri": "https://localhost:8080/",
          "height": 34
        }
      },
      "source": [
        "seq_model = Sequential()\n",
        "type(seq_model)\n",
        "print(seq_model)"
      ],
      "execution_count": 36,
      "outputs": [
        {
          "output_type": "stream",
          "text": [
            "<keras.engine.sequential.Sequential object at 0x7f743e972908>\n"
          ],
          "name": "stdout"
        }
      ]
    },
    {
      "cell_type": "markdown",
      "metadata": {
        "id": "KZSShrqZAcfm",
        "colab_type": "text"
      },
      "source": [
        "**Add layers from vgg16 to our model**"
      ]
    },
    {
      "cell_type": "code",
      "metadata": {
        "id": "JA_yVOwJ7DKq",
        "colab_type": "code",
        "outputId": "6126a480-1bb5-4291-85fd-fb7a678335f5",
        "colab": {
          "base_uri": "https://localhost:8080/",
          "height": 425
        }
      },
      "source": [
        "for l in model.layers:\n",
        "  print(l)\n",
        "  seq_model.add(l)"
      ],
      "execution_count": 37,
      "outputs": [
        {
          "output_type": "stream",
          "text": [
            "<keras.engine.input_layer.InputLayer object at 0x7f7439e22320>\n",
            "<keras.layers.convolutional.Conv2D object at 0x7f7439e224a8>\n",
            "<keras.layers.convolutional.Conv2D object at 0x7f7439e22710>\n",
            "<keras.layers.pooling.MaxPooling2D object at 0x7f743e6f2b38>\n",
            "<keras.layers.convolutional.Conv2D object at 0x7f743e6f2b70>\n",
            "<keras.layers.convolutional.Conv2D object at 0x7f743d68f1d0>\n",
            "<keras.layers.pooling.MaxPooling2D object at 0x7f743d68fe48>\n",
            "<keras.layers.convolutional.Conv2D object at 0x7f743d68ff98>\n",
            "<keras.layers.convolutional.Conv2D object at 0x7f743ef8b3c8>\n",
            "<keras.layers.convolutional.Conv2D object at 0x7f743efa0ba8>\n",
            "<keras.layers.pooling.MaxPooling2D object at 0x7f743efb5710>\n",
            "<keras.layers.convolutional.Conv2D object at 0x7f743efb5860>\n",
            "<keras.layers.convolutional.Conv2D object at 0x7f743ef67cc0>\n",
            "<keras.layers.convolutional.Conv2D object at 0x7f743ef02fd0>\n",
            "<keras.layers.pooling.MaxPooling2D object at 0x7f743ef15a90>\n",
            "<keras.layers.convolutional.Conv2D object at 0x7f743ef320f0>\n",
            "<keras.layers.convolutional.Conv2D object at 0x7f743eecbac8>\n",
            "<keras.layers.convolutional.Conv2D object at 0x7f743eedeac8>\n",
            "<keras.layers.pooling.MaxPooling2D object at 0x7f743eef6f60>\n",
            "<keras.layers.pooling.AveragePooling2D object at 0x7f748e9b2630>\n",
            "<keras.layers.core.Flatten object at 0x7f743e9cbef0>\n",
            "<keras.layers.core.Dense object at 0x7f743e9cb048>\n",
            "<keras.layers.core.Dropout object at 0x7f743e9d2518>\n",
            "<keras.layers.core.Dense object at 0x7f743e9d2c50>\n"
          ],
          "name": "stdout"
        }
      ]
    },
    {
      "cell_type": "markdown",
      "metadata": {
        "id": "qzn69wXi_B1z",
        "colab_type": "text"
      },
      "source": [
        "**Remove output layer and change it to fit previous**"
      ]
    },
    {
      "cell_type": "code",
      "metadata": {
        "id": "0loV_aP4_hrl",
        "colab_type": "code",
        "outputId": "340427cb-8fa6-49cb-96b4-c8f7a0e68393",
        "colab": {
          "base_uri": "https://localhost:8080/",
          "height": 935
        }
      },
      "source": [
        "seq_model.summary()"
      ],
      "execution_count": 38,
      "outputs": [
        {
          "output_type": "stream",
          "text": [
            "Model: \"sequential_2\"\n",
            "_________________________________________________________________\n",
            "Layer (type)                 Output Shape              Param #   \n",
            "=================================================================\n",
            "block1_conv1 (Conv2D)        (None, 300, 300, 64)      1792      \n",
            "_________________________________________________________________\n",
            "block1_conv2 (Conv2D)        (None, 300, 300, 64)      36928     \n",
            "_________________________________________________________________\n",
            "block1_pool (MaxPooling2D)   (None, 150, 150, 64)      0         \n",
            "_________________________________________________________________\n",
            "block2_conv1 (Conv2D)        (None, 150, 150, 128)     73856     \n",
            "_________________________________________________________________\n",
            "block2_conv2 (Conv2D)        (None, 150, 150, 128)     147584    \n",
            "_________________________________________________________________\n",
            "block2_pool (MaxPooling2D)   (None, 75, 75, 128)       0         \n",
            "_________________________________________________________________\n",
            "block3_conv1 (Conv2D)        (None, 75, 75, 256)       295168    \n",
            "_________________________________________________________________\n",
            "block3_conv2 (Conv2D)        (None, 75, 75, 256)       590080    \n",
            "_________________________________________________________________\n",
            "block3_conv3 (Conv2D)        (None, 75, 75, 256)       590080    \n",
            "_________________________________________________________________\n",
            "block3_pool (MaxPooling2D)   (None, 37, 37, 256)       0         \n",
            "_________________________________________________________________\n",
            "block4_conv1 (Conv2D)        (None, 37, 37, 512)       1180160   \n",
            "_________________________________________________________________\n",
            "block4_conv2 (Conv2D)        (None, 37, 37, 512)       2359808   \n",
            "_________________________________________________________________\n",
            "block4_conv3 (Conv2D)        (None, 37, 37, 512)       2359808   \n",
            "_________________________________________________________________\n",
            "block4_pool (MaxPooling2D)   (None, 18, 18, 512)       0         \n",
            "_________________________________________________________________\n",
            "block5_conv1 (Conv2D)        (None, 18, 18, 512)       2359808   \n",
            "_________________________________________________________________\n",
            "block5_conv2 (Conv2D)        (None, 18, 18, 512)       2359808   \n",
            "_________________________________________________________________\n",
            "block5_conv3 (Conv2D)        (None, 18, 18, 512)       2359808   \n",
            "_________________________________________________________________\n",
            "block5_pool (MaxPooling2D)   (None, 9, 9, 512)         0         \n",
            "_________________________________________________________________\n",
            "average_pooling2d_1 (Average (None, 2, 2, 512)         0         \n",
            "_________________________________________________________________\n",
            "flatten (Flatten)            (None, 2048)              0         \n",
            "_________________________________________________________________\n",
            "dense_3 (Dense)              (None, 128)               262272    \n",
            "_________________________________________________________________\n",
            "dropout_2 (Dropout)          (None, 128)               0         \n",
            "_________________________________________________________________\n",
            "dense_4 (Dense)              (None, 2)                 258       \n",
            "=================================================================\n",
            "Total params: 14,977,218\n",
            "Trainable params: 14,977,218\n",
            "Non-trainable params: 0\n",
            "_________________________________________________________________\n"
          ],
          "name": "stdout"
        }
      ]
    },
    {
      "cell_type": "code",
      "metadata": {
        "id": "1NUXuaoLD_is",
        "colab_type": "code",
        "colab": {}
      },
      "source": [
        "opt = optimizers.Adam(lr=0.001)\n",
        "\n",
        "seq_model.compile(loss=\"categorical_crossentropy\", optimizer=opt,\n",
        "\tmetrics=[\"accuracy\"])"
      ],
      "execution_count": 0,
      "outputs": []
    },
    {
      "cell_type": "code",
      "metadata": {
        "id": "_jct5CvhFpRj",
        "colab_type": "code",
        "outputId": "44d13739-31ac-4cf4-be06-28deca23a1fc",
        "colab": {
          "base_uri": "https://localhost:8080/",
          "height": 204
        }
      },
      "source": [
        "seq_model.fit_generator(train_batches, steps_per_epoch=STEP_SIZE_TRAIN, epochs=5, validation_data=valid_batches, validation_steps=STEP_SIZE_VALID, verbose=2)"
      ],
      "execution_count": 40,
      "outputs": [
        {
          "output_type": "stream",
          "text": [
            "Epoch 1/5\n",
            " - 49s - loss: 7.9104 - acc: 0.4948 - val_loss: 8.7306 - val_acc: 0.4583\n",
            "Epoch 2/5\n",
            " - 37s - loss: 8.0590 - acc: 0.5000 - val_loss: 7.3264 - val_acc: 0.5455\n",
            "Epoch 3/5\n",
            " - 36s - loss: 8.0590 - acc: 0.5000 - val_loss: 7.3264 - val_acc: 0.5455\n",
            "Epoch 4/5\n",
            " - 36s - loss: 8.0590 - acc: 0.5000 - val_loss: 7.3264 - val_acc: 0.5455\n",
            "Epoch 5/5\n",
            " - 36s - loss: 8.0590 - acc: 0.5000 - val_loss: 8.0590 - val_acc: 0.5000\n"
          ],
          "name": "stdout"
        },
        {
          "output_type": "execute_result",
          "data": {
            "text/plain": [
              "<keras.callbacks.History at 0x7f743e947128>"
            ]
          },
          "metadata": {
            "tags": []
          },
          "execution_count": 40
        }
      ]
    },
    {
      "cell_type": "code",
      "metadata": {
        "id": "OIG6ckxh5coy",
        "colab_type": "code",
        "outputId": "499dae01-745f-4b7f-cf3d-b1b9947975fc",
        "colab": {
          "base_uri": "https://localhost:8080/",
          "height": 34
        }
      },
      "source": [
        "seq_model.evaluate_generator(generator=valid_batches, steps=STEP_SIZE_VALID)"
      ],
      "execution_count": 41,
      "outputs": [
        {
          "output_type": "execute_result",
          "data": {
            "text/plain": [
              "[8.05904769897461, 0.5]"
            ]
          },
          "metadata": {
            "tags": []
          },
          "execution_count": 41
        }
      ]
    },
    {
      "cell_type": "code",
      "metadata": {
        "id": "PpoqkpYoslvv",
        "colab_type": "code",
        "colab": {}
      },
      "source": [
        "session.close()"
      ],
      "execution_count": 0,
      "outputs": []
    }
  ]
}